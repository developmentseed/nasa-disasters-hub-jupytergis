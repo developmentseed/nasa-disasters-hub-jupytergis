{
 "cells": [
  {
   "cell_type": "markdown",
   "id": "9d1b7212",
   "metadata": {},
   "source": [
    "# Fire Perimeter Exploration"
   ]
  },
  {
   "cell_type": "markdown",
   "id": "d07496c3",
   "metadata": {},
   "source": [
    "This notebook attempts to demonstrate how large cloud datasets relevant to the disaster response community can be processed and analyzed in a Jupyter notebook.\n",
    "\n",
    "This notebook explores near real-time fire affected areas from active wildfires from the [VIIRS Modeled Fire Perimiters dataset](https://firms.modaps.eosdis.nasa.gov/descriptions/FEDS_VIIRS_SNPP), which is updated every 12 hours and fetched from the VEDA \n",
    "\n",
    "This data is fetched from the [VEDA TiPG API](https://openveda.cloud/api/features/), which is the source of the [VEDA Fire Event Explorer](https://www.earthdata.nasa.gov/dashboard/tools/fire-event-explorer).\n",
    "\n",
    "This fire extent data is paired with the [Microsoft Building Footprints](https://planetarycomputer.microsoft.com/dataset/ms-buildings#overview) dataset, a collection of almost 1 billion polygons of buildings around the world.\n",
    "\n",
    "The notebook focuses on the US state of New Mexico, but can be adapted for other regions."
   ]
  },
  {
   "cell_type": "markdown",
   "id": "e4224bcf",
   "metadata": {},
   "source": [
    "## Import Libraries"
   ]
  },
  {
   "cell_type": "code",
   "execution_count": 1,
   "id": "bc233e80",
   "metadata": {},
   "outputs": [],
   "source": [
    "import requests\n",
    "from owslib.ogcapi.features import Features\n",
    "from pystac_client import Client\n",
    "\n",
    "import obstore as obs\n",
    "from obstore.store import from_url, AzureStore\n",
    "from obstore.auth.planetary_computer import PlanetaryComputerCredentialProvider\n",
    "import planetary_computer\n",
    "\n",
    "import shapely.geometry\n",
    "import mercantile\n",
    "\n",
    "import pyarrow.parquet as pq\n",
    "\n",
    "import deltalake\n",
    "import adlfs\n",
    "\n",
    "from lonboard import viz\n",
    "import pandas as pd\n",
    "import geopandas as gpd\n",
    "import jupytergis\n",
    "\n",
    "import rasterio as rs\n",
    "from rasterio.plot import show"
   ]
  },
  {
   "cell_type": "markdown",
   "id": "b665d0ed",
   "metadata": {},
   "source": [
    "## Define our AOI\n",
    "\n",
    "We'll be exploring data in the US state of New Mexico."
   ]
  },
  {
   "cell_type": "code",
   "execution_count": 2,
   "id": "87341468",
   "metadata": {},
   "outputs": [],
   "source": [
    "aoi_polygon = shapely.geometry.box(\"-110\", \"31\", \"-103\", \"38\") \n",
    "aoi = [\"-110\", \"31\", \"-103\", \"38\"]"
   ]
  },
  {
   "cell_type": "markdown",
   "id": "6b873a9a",
   "metadata": {},
   "source": [
    "## Get Fire Perimeter data"
   ]
  },
  {
   "cell_type": "markdown",
   "id": "9c24c18c",
   "metadata": {},
   "source": [
    "The current vector data is hosted as a [TiPG](https://developmentseed.org/tipg/) feature (and tile) API, which is distinct from the [VEDA STAC API](https://openveda.cloud/).\n",
    "\n",
    "This section is similar to [this notebook](https://docs.openveda.cloud/user-guide/notebooks/tutorials/mapping-fires.html)."
   ]
  },
  {
   "cell_type": "code",
   "execution_count": 3,
   "id": "b202887d",
   "metadata": {},
   "outputs": [],
   "source": [
    "VEDA_TiPG_url = \"https://openveda.cloud/api/features\""
   ]
  },
  {
   "cell_type": "markdown",
   "id": "c4f38e9e",
   "metadata": {},
   "source": [
    "Datasets distributed through OGC APIs are organized into collections. We can see the available collections with this command:"
   ]
  },
  {
   "cell_type": "code",
   "execution_count": 4,
   "id": "48f8c1f0",
   "metadata": {},
   "outputs": [
    {
     "data": {
      "text/plain": [
       "['public.eis_fire_snapshot_perimeter_nrt',\n",
       " 'public.eis_fire_lf_perimeter_nrt',\n",
       " 'public.eis_fire_lf_newfirepix_nrt',\n",
       " 'public.eis_fire_snapshot_newfirepix_nrt',\n",
       " 'public.eis_fire_snapshot_fireline_nrt',\n",
       " 'public.eis_fire_lf_fireline_nrt',\n",
       " 'public.eis_fire_lf_fireline_archive',\n",
       " 'public.eis_fire_lf_newfirepix_archive',\n",
       " 'public.eis_fire_lf_perimeter_archive',\n",
       " 'pg_temp.eis_fire_lf_perimeter_nrt_latest',\n",
       " 'public.st_squaregrid',\n",
       " 'public.st_hexagongrid',\n",
       " 'public.st_subdivide']"
      ]
     },
     "execution_count": 4,
     "metadata": {},
     "output_type": "execute_result"
    }
   ],
   "source": [
    "w = Features(VEDA_TiPG_url)\n",
    "w.feature_collections()"
   ]
  },
  {
   "cell_type": "markdown",
   "id": "a7d541c6",
   "metadata": {},
   "source": [
    "The `public.eis_fire_snapshot_perimeter_nrt` collection shows the extent of active fires. We will use that as our collection."
   ]
  },
  {
   "cell_type": "code",
   "execution_count": 5,
   "id": "dde25b1d",
   "metadata": {},
   "outputs": [],
   "source": [
    "perim = w.collection(\"public.eis_fire_snapshot_perimeter_nrt\")"
   ]
  },
  {
   "cell_type": "markdown",
   "id": "2f5c5de0",
   "metadata": {},
   "source": [
    "We can look at the variables, or queryables, that the collection has available:"
   ]
  },
  {
   "cell_type": "code",
   "execution_count": 6,
   "id": "2e618739",
   "metadata": {},
   "outputs": [
    {
     "data": {
      "text/plain": [
       "['geometry',\n",
       " 'duration',\n",
       " 'farea',\n",
       " 'fireid',\n",
       " 'flinelen',\n",
       " 'fperim',\n",
       " 'geom_counts',\n",
       " 'isactive',\n",
       " 'low_confidence_grouping',\n",
       " 'meanfrp',\n",
       " 'n_newpixels',\n",
       " 'n_pixels',\n",
       " 'pixden',\n",
       " 'primarykey',\n",
       " 'region',\n",
       " 't']"
      ]
     },
     "execution_count": 6,
     "metadata": {},
     "output_type": "execute_result"
    }
   ],
   "source": [
    "perim_q = w.collection_queryables(\"public.eis_fire_snapshot_perimeter_nrt\")\n",
    "list(perim_q[\"properties\"])"
   ]
  },
  {
   "cell_type": "markdown",
   "id": "5cc06fe8",
   "metadata": {},
   "source": [
    "We can get the items within the collection that are within our AOI, and add them to a GeoDataFrame."
   ]
  },
  {
   "cell_type": "code",
   "execution_count": 7,
   "id": "d48082e3",
   "metadata": {},
   "outputs": [
    {
     "name": "stdout",
     "output_type": "stream",
     "text": [
      "There are 78 active wildfire perimeters within the AOI.\n"
     ]
    }
   ],
   "source": [
    "perim_results = w.collection_items(\n",
    "    \"public.eis_fire_snapshot_perimeter_nrt\",\n",
    "    bbox=aoi,\n",
    "    limit=1000\n",
    ")\n",
    "\n",
    "perimeters = gpd.GeoDataFrame.from_features(perim_results[\"features\"], crs=\"EPSG:4326\")\n",
    "print(\"There are\", len(perimeters), \"active wildfire perimeters within the AOI.\")"
   ]
  },
  {
   "cell_type": "markdown",
   "id": "7677feb3",
   "metadata": {},
   "source": [
    "We can quickly visualize these active wildfire perimeters with [Lonboard's](https://developmentseed.org/lonboard/latest/) `viz` function. Lonboard excels at visualizing large datasets, and the `viz` function lets us do so quickly."
   ]
  },
  {
   "cell_type": "code",
   "execution_count": 8,
   "id": "18757d1b",
   "metadata": {},
   "outputs": [
    {
     "data": {
      "application/vnd.jupyter.widget-view+json": {
       "model_id": "87ce99a4b4f04c4194ecceaf3f83e297",
       "version_major": 2,
       "version_minor": 1
      },
      "text/plain": [
       "Map(basemap_style=<CartoBasemap.DarkMatter: 'https://basemaps.cartocdn.com/gl/dark-matter-gl-style/style.json'…"
      ]
     },
     "execution_count": 8,
     "metadata": {},
     "output_type": "execute_result"
    }
   ],
   "source": [
    "viz(perimeters)"
   ]
  },
  {
   "cell_type": "markdown",
   "id": "4611b414",
   "metadata": {},
   "source": [
    "## Buildings"
   ]
  },
  {
   "cell_type": "markdown",
   "id": "a9c22d09",
   "metadata": {},
   "source": [
    "Let's explore how these fires interact with our built environment. To do so, we can use [Microsoft's Building Footprints](https://planetarycomputer.microsoft.com/dataset/ms-buildings#overview) dataset, which is hosted as a STAC collection on Planetary Computer. The dataset includes almost 1 billion buildings around the world."
   ]
  },
  {
   "cell_type": "markdown",
   "id": "6df88cb2",
   "metadata": {},
   "source": [
    "We can interact with the Planetary Computer STAC catalog in this notebook by loading its URL."
   ]
  },
  {
   "cell_type": "code",
   "execution_count": 9,
   "id": "91bf83ba",
   "metadata": {},
   "outputs": [
    {
     "data": {
      "text/plain": [
       "'Microsoft Planetary Computer STAC API'"
      ]
     },
     "execution_count": 9,
     "metadata": {},
     "output_type": "execute_result"
    }
   ],
   "source": [
    "mpc_url = \"https://planetarycomputer.microsoft.com/api/stac/v1/\"\n",
    "mpc = Client.open(mpc_url)\n",
    "mpc.title"
   ]
  },
  {
   "cell_type": "markdown",
   "id": "c4d4e638",
   "metadata": {},
   "source": [
    "To find the relevant collection, we can use the `query` parameter and search for the keyword `building`."
   ]
  },
  {
   "cell_type": "code",
   "execution_count": 10,
   "id": "2a3b1507",
   "metadata": {},
   "outputs": [
    {
     "name": "stderr",
     "output_type": "stream",
     "text": [
      "/Users/will/DevSeed/NASA/disasters-hub/.venv/lib/python3.11/site-packages/pystac_client/collection_search.py:306: UserWarning: Server does not conform to COLLECTION_SEARCH. Filtering will be performed client-side where only bbox, datetime, and q arguments are supported\n",
      "  warnings.warn(\n"
     ]
    },
    {
     "name": "stdout",
     "output_type": "stream",
     "text": [
      "2 collections found\n"
     ]
    }
   ],
   "source": [
    "mpc_search = mpc.collection_search(\n",
    "    q=\"building\"\n",
    ")\n",
    "\n",
    "print(f\"{mpc_search.matched()} collections found\")"
   ]
  },
  {
   "cell_type": "code",
   "execution_count": 11,
   "id": "28d07a49",
   "metadata": {},
   "outputs": [
    {
     "name": "stdout",
     "output_type": "stream",
     "text": [
      "3dep-lidar-classification\n",
      "ms-buildings\n"
     ]
    }
   ],
   "source": [
    "for collection in mpc_search.collections():\n",
    "    print(collection.id)"
   ]
  },
  {
   "cell_type": "markdown",
   "id": "8d832f27",
   "metadata": {},
   "source": [
    "`ms-buildings` is the correct collection. We can ensure that by loading the collection's title."
   ]
  },
  {
   "cell_type": "code",
   "execution_count": 12,
   "id": "9685167e",
   "metadata": {},
   "outputs": [
    {
     "data": {
      "text/plain": [
       "'Microsoft Building Footprints'"
      ]
     },
     "execution_count": 12,
     "metadata": {},
     "output_type": "execute_result"
    }
   ],
   "source": [
    "buildings_cat = mpc.get_collection(\"ms-buildings\")\n",
    "buildings_cat.title"
   ]
  },
  {
   "cell_type": "markdown",
   "id": "9f34e3ff",
   "metadata": {},
   "source": [
    "The dataset is very large, and covers most of the planet. We'd like to only fetch data within our AOI.\n",
    "\n",
    "As described in the [example notebook](https://planetarycomputer.microsoft.com/dataset/ms-buildings#Example-Notebook), the dataset is spatially partitioned using quadkeys, and is stored in [Delta format](https://docs.delta.io/latest/delta-intro.html). That means that we first should identify the quadkeys that our data exists in.\n",
    "\n",
    "We could fetch data for all quadkeys within our AOI, but a more efficient method would be to only fetch data for quadkeys that have an active fire perimeter."
   ]
  },
  {
   "cell_type": "code",
   "execution_count": 15,
   "id": "d949b89f",
   "metadata": {},
   "outputs": [],
   "source": [
    "fire_quadkeys = set()\n",
    "for geometry in perimeters.geometry:\n",
    "    quadkeys = [\n",
    "        int(mercantile.quadkey(tile))\n",
    "        for tile in mercantile.tiles(*geometry.bounds, zooms=9)\n",
    "    ]\n",
    "    fire_quadkeys.update(quadkeys)\n",
    "\n",
    "fire_quadkeys = list(fire_quadkeys)"
   ]
  },
  {
   "cell_type": "markdown",
   "id": "2f7ed4da",
   "metadata": {},
   "source": [
    "The data can be loaded as a client with the `pystac` library."
   ]
  },
  {
   "cell_type": "code",
   "execution_count": null,
   "id": "e757e867",
   "metadata": {},
   "outputs": [],
   "source": [
    "catalog = Client.open(\n",
    "    \"https://planetarycomputer.microsoft.com/api/stac/v1\",\n",
    "    modifier=planetary_computer.sign_inplace, # this is needed for rate limiting\n",
    ")\n",
    "collection = catalog.get_collection(\"ms-buildings\") # loading the collection as before\n",
    "asset = collection.assets[\"delta\"] # loading the assets in delta format"
   ]
  },
  {
   "cell_type": "markdown",
   "id": "9f2d35ca",
   "metadata": {},
   "source": [
    "For authentication purposes, we can store the account name and token received from fetching the collection assets..."
   ]
  },
  {
   "cell_type": "code",
   "execution_count": 19,
   "id": "88cd75e1",
   "metadata": {},
   "outputs": [],
   "source": [
    "storage_options = {\n",
    "    \"account_name\": asset.extra_fields[\"table:storage_options\"][\"account_name\"],\n",
    "    \"sas_token\": asset.extra_fields[\"table:storage_options\"][\"credential\"],\n",
    "}"
   ]
  },
  {
   "cell_type": "markdown",
   "id": "c3b41f9c",
   "metadata": {},
   "source": [
    "...and pass them to create our delta table."
   ]
  },
  {
   "cell_type": "code",
   "execution_count": 20,
   "id": "91e9a0a7",
   "metadata": {},
   "outputs": [],
   "source": [
    "table = deltalake.DeltaTable(asset.href, storage_options=storage_options)"
   ]
  },
  {
   "cell_type": "markdown",
   "id": "50dee03e",
   "metadata": {},
   "source": [
    "This lets us query the building dataset for only geoparquet files that cover the United States that have fire perimeters within the same quadkey."
   ]
  },
  {
   "cell_type": "code",
   "execution_count": 22,
   "id": "6cb98d97",
   "metadata": {},
   "outputs": [
    {
     "data": {
      "text/plain": [
       "['az://footprints/delta/2023-04-25/ml-buildings.parquet/RegionName=UnitedStates/quadkey=23102312/part-00005-b32140c2-71a7-4634-ad9b-e468f8e82e70.c000.snappy.parquet',\n",
       " 'az://footprints/delta/2023-04-25/ml-buildings.parquet/RegionName=UnitedStates/quadkey=23102330/part-00005-c55f6fcd-acbc-4139-b202-de34f44a596c.c000.snappy.parquet',\n",
       " 'az://footprints/delta/2023-04-25/ml-buildings.parquet/RegionName=UnitedStates/quadkey=23103322/part-00033-93412344-ba19-4f70-a6bb-d89e38509ca6.c000.snappy.parquet',\n",
       " 'az://footprints/delta/2023-04-25/ml-buildings.parquet/RegionName=UnitedStates/quadkey=23103120/part-00051-e6d7e01e-4c98-497e-aa48-314143b640ce.c000.snappy.parquet',\n",
       " 'az://footprints/delta/2023-04-25/ml-buildings.parquet/RegionName=UnitedStates/quadkey=23100323/part-00053-52c7e09c-d9d9-4685-b38b-c56bbc37259c.c000.snappy.parquet',\n",
       " 'az://footprints/delta/2023-04-25/ml-buildings.parquet/RegionName=UnitedStates/quadkey=23103000/part-00122-dace51aa-2205-402a-9336-3f3ee05acf35.c000.snappy.parquet',\n",
       " 'az://footprints/delta/2023-04-25/ml-buildings.parquet/RegionName=UnitedStates/quadkey=23102301/part-00163-6a73c13d-72ef-4b85-bb37-82ede41948da.c000.snappy.parquet',\n",
       " 'az://footprints/delta/2023-04-25/ml-buildings.parquet/RegionName=UnitedStates/quadkey=23121101/part-00221-2383c224-b159-48d4-a06b-ef70de006291.c000.snappy.parquet',\n",
       " 'az://footprints/delta/2023-04-25/ml-buildings.parquet/RegionName=UnitedStates/quadkey=23101323/part-00230-b5ef6489-62d9-4260-a282-e4f1a8726b1c.c000.snappy.parquet',\n",
       " 'az://footprints/delta/2023-04-25/ml-buildings.parquet/RegionName=UnitedStates/quadkey=23103231/part-00259-ffc23550-343a-41ab-98da-fd16d9a99fd3.c000.snappy.parquet',\n",
       " 'az://footprints/delta/2023-04-25/ml-buildings.parquet/RegionName=UnitedStates/quadkey=23102310/part-00267-116b77b2-9016-424c-9c24-faf960fcddb1.c000.snappy.parquet',\n",
       " 'az://footprints/delta/2023-04-25/ml-buildings.parquet/RegionName=UnitedStates/quadkey=23103221/part-00270-8900740a-7839-4737-aa71-84bd713d40ca.c000.snappy.parquet',\n",
       " 'az://footprints/delta/2023-04-25/ml-buildings.parquet/RegionName=UnitedStates/quadkey=23103222/part-00293-4fe4402a-e338-498a-a5b0-13c8d3406a87.c000.snappy.parquet',\n",
       " 'az://footprints/delta/2023-04-25/ml-buildings.parquet/RegionName=UnitedStates/quadkey=23121011/part-00328-ab30e607-312b-4391-8371-532e444269de.c000.snappy.parquet',\n",
       " 'az://footprints/delta/2023-04-25/ml-buildings.parquet/RegionName=UnitedStates/quadkey=23121102/part-00353-2267def1-5917-423a-91bb-7ad184d721a8.c000.snappy.parquet',\n",
       " 'az://footprints/delta/2023-04-25/ml-buildings.parquet/RegionName=UnitedStates/quadkey=23103020/part-00416-710369f4-5e59-4a3c-8a46-12e14572d0cb.c000.snappy.parquet',\n",
       " 'az://footprints/delta/2023-04-25/ml-buildings.parquet/RegionName=UnitedStates/quadkey=23121103/part-00418-a996abc7-00ac-43ee-8a4a-f3556296dba1.c000.snappy.parquet',\n",
       " 'az://footprints/delta/2023-04-25/ml-buildings.parquet/RegionName=UnitedStates/quadkey=23102130/part-00452-b741fbd9-5e8e-44f7-acde-ca7526a1b0c6.c000.snappy.parquet',\n",
       " 'az://footprints/delta/2023-04-25/ml-buildings.parquet/RegionName=UnitedStates/quadkey=23102233/part-00452-5f84bbac-918d-4ccd-bb29-5c18aa3209f2.c000.snappy.parquet',\n",
       " 'az://footprints/delta/2023-04-25/ml-buildings.parquet/RegionName=UnitedStates/quadkey=23103022/part-00463-0364fb0e-9d77-41f0-a43a-9bfcfb042fd6.c000.snappy.parquet',\n",
       " 'az://footprints/delta/2023-04-25/ml-buildings.parquet/RegionName=UnitedStates/quadkey=23120013/part-00485-ebc47164-6f9d-4a71-a642-b4bc8cc6bfda.c000.snappy.parquet',\n",
       " 'az://footprints/delta/2023-04-25/ml-buildings.parquet/RegionName=UnitedStates/quadkey=23121000/part-00501-47ae6536-a0ef-41a9-9446-fff6aa6501c3.c000.snappy.parquet',\n",
       " 'az://footprints/delta/2023-04-25/ml-buildings.parquet/RegionName=UnitedStates/quadkey=23120103/part-00522-71edaddd-02ad-4db0-8dcd-b610974e48f4.c000.snappy.parquet',\n",
       " 'az://footprints/delta/2023-04-25/ml-buildings.parquet/RegionName=UnitedStates/quadkey=23101320/part-00534-4ef2e4fb-240e-443a-98ee-e79e19c30963.c000.snappy.parquet',\n",
       " 'az://footprints/delta/2023-04-25/ml-buildings.parquet/RegionName=UnitedStates/quadkey=23103023/part-00537-b6503f9b-7750-423c-8960-92eceaed0aab.c000.snappy.parquet',\n",
       " 'az://footprints/delta/2023-04-25/ml-buildings.parquet/RegionName=UnitedStates/quadkey=23121100/part-00541-40cca8a9-1aea-4238-8108-346d2663eab8.c000.snappy.parquet',\n",
       " 'az://footprints/delta/2023-04-25/ml-buildings.parquet/RegionName=UnitedStates/quadkey=23103002/part-00544-81a32373-43c6-4d5d-a8ca-aaf0240c6899.c000.snappy.parquet',\n",
       " 'az://footprints/delta/2023-04-25/ml-buildings.parquet/RegionName=UnitedStates/quadkey=23120100/part-00544-e9228dba-306a-4728-a39d-44d2d339dce9.c000.snappy.parquet',\n",
       " 'az://footprints/delta/2023-04-25/ml-buildings.parquet/RegionName=UnitedStates/quadkey=23103320/part-00555-8559c7c1-5dbd-4bfe-ba68-612e993cc2e4.c000.snappy.parquet',\n",
       " 'az://footprints/delta/2023-04-25/ml-buildings.parquet/RegionName=UnitedStates/quadkey=23103321/part-00569-3296629a-faf1-4cc1-b347-dd00a9613e90.c000.snappy.parquet',\n",
       " 'az://footprints/delta/2023-04-25/ml-buildings.parquet/RegionName=UnitedStates/quadkey=23102322/part-00572-7116b2b1-64de-48b8-b694-edcbf166d1de.c000.snappy.parquet',\n",
       " 'az://footprints/delta/2023-04-25/ml-buildings.parquet/RegionName=UnitedStates/quadkey=23102102/part-00586-761d5b1e-5836-4bfc-ad0c-79299d13994c.c000.snappy.parquet',\n",
       " 'az://footprints/delta/2023-04-25/ml-buildings.parquet/RegionName=UnitedStates/quadkey=23102121/part-00586-56cc0a5c-9845-4354-a166-2718edb9f669.c000.snappy.parquet',\n",
       " 'az://footprints/delta/2023-04-25/ml-buildings.parquet/RegionName=UnitedStates/quadkey=23103233/part-00613-05769587-06aa-44dd-8e8e-a3fc725265c2.c000.snappy.parquet']"
      ]
     },
     "execution_count": 22,
     "metadata": {},
     "output_type": "execute_result"
    }
   ],
   "source": [
    "file_uris = table.file_uris([(\"RegionName\", \"=\", \"UnitedStates\"),(\"quadkey\", \"in\", fire_quadkeys)])\n",
    "file_uris"
   ]
  },
  {
   "cell_type": "markdown",
   "id": "ce59b18a",
   "metadata": {},
   "source": [
    "We can then fetch the actual items (each geoparquet file) from the list of geoparquet files and store them in a geodataframe."
   ]
  },
  {
   "cell_type": "code",
   "execution_count": 27,
   "id": "80857346",
   "metadata": {},
   "outputs": [],
   "source": [
    "buildings = pd.concat(\n",
    "    [\n",
    "        gpd.read_parquet(file_uri, storage_options=storage_options)\n",
    "        for file_uri in file_uris\n",
    "    ]\n",
    ")"
   ]
  },
  {
   "cell_type": "markdown",
   "id": "2e6ae2d8",
   "metadata": {},
   "source": [
    "We now have over 1 million buildings in a single dataframe, with their geometry, mean height, and the region and quadkey they came from."
   ]
  },
  {
   "cell_type": "code",
   "execution_count": 33,
   "id": "dcbf7cb4",
   "metadata": {},
   "outputs": [
    {
     "data": {
      "text/html": [
       "<div>\n",
       "<style scoped>\n",
       "    .dataframe tbody tr th:only-of-type {\n",
       "        vertical-align: middle;\n",
       "    }\n",
       "\n",
       "    .dataframe tbody tr th {\n",
       "        vertical-align: top;\n",
       "    }\n",
       "\n",
       "    .dataframe thead th {\n",
       "        text-align: right;\n",
       "    }\n",
       "</style>\n",
       "<table border=\"1\" class=\"dataframe\">\n",
       "  <thead>\n",
       "    <tr style=\"text-align: right;\">\n",
       "      <th></th>\n",
       "      <th>geometry</th>\n",
       "      <th>meanHeight</th>\n",
       "      <th>RegionName</th>\n",
       "      <th>quadkey</th>\n",
       "    </tr>\n",
       "  </thead>\n",
       "  <tbody>\n",
       "    <tr>\n",
       "      <th>0</th>\n",
       "      <td>POLYGON ((-108.20774 33.19588, -108.20778 33.1...</td>\n",
       "      <td>2.908320</td>\n",
       "      <td>UnitedStates</td>\n",
       "      <td>23102312</td>\n",
       "    </tr>\n",
       "    <tr>\n",
       "      <th>1</th>\n",
       "      <td>POLYGON ((-107.67342 33.33829, -107.67356 33.3...</td>\n",
       "      <td>-1.000000</td>\n",
       "      <td>UnitedStates</td>\n",
       "      <td>23102312</td>\n",
       "    </tr>\n",
       "    <tr>\n",
       "      <th>2</th>\n",
       "      <td>POLYGON ((-107.59869 33.27274, -107.59853 33.2...</td>\n",
       "      <td>-1.000000</td>\n",
       "      <td>UnitedStates</td>\n",
       "      <td>23102312</td>\n",
       "    </tr>\n",
       "    <tr>\n",
       "      <th>3</th>\n",
       "      <td>POLYGON ((-107.64454 33.34756, -107.64446 33.3...</td>\n",
       "      <td>-1.000000</td>\n",
       "      <td>UnitedStates</td>\n",
       "      <td>23102312</td>\n",
       "    </tr>\n",
       "    <tr>\n",
       "      <th>4</th>\n",
       "      <td>POLYGON ((-107.64928 33.34947, -107.6493 33.34...</td>\n",
       "      <td>-1.000000</td>\n",
       "      <td>UnitedStates</td>\n",
       "      <td>23102312</td>\n",
       "    </tr>\n",
       "    <tr>\n",
       "      <th>...</th>\n",
       "      <td>...</td>\n",
       "      <td>...</td>\n",
       "      <td>...</td>\n",
       "      <td>...</td>\n",
       "    </tr>\n",
       "    <tr>\n",
       "      <th>25120</th>\n",
       "      <td>POLYGON ((-104.22538 32.43169, -104.22538 32.4...</td>\n",
       "      <td>2.504073</td>\n",
       "      <td>UnitedStates</td>\n",
       "      <td>23103233</td>\n",
       "    </tr>\n",
       "    <tr>\n",
       "      <th>25121</th>\n",
       "      <td>POLYGON ((-104.22057 32.38902, -104.22071 32.3...</td>\n",
       "      <td>-1.000000</td>\n",
       "      <td>UnitedStates</td>\n",
       "      <td>23103233</td>\n",
       "    </tr>\n",
       "    <tr>\n",
       "      <th>25122</th>\n",
       "      <td>POLYGON ((-104.2181 32.38154, -104.21826 32.38...</td>\n",
       "      <td>3.599401</td>\n",
       "      <td>UnitedStates</td>\n",
       "      <td>23103233</td>\n",
       "    </tr>\n",
       "    <tr>\n",
       "      <th>25123</th>\n",
       "      <td>POLYGON ((-104.18929 32.34827, -104.18929 32.3...</td>\n",
       "      <td>-1.000000</td>\n",
       "      <td>UnitedStates</td>\n",
       "      <td>23103233</td>\n",
       "    </tr>\n",
       "    <tr>\n",
       "      <th>25124</th>\n",
       "      <td>POLYGON ((-104.26012 32.45499, -104.26017 32.4...</td>\n",
       "      <td>-1.000000</td>\n",
       "      <td>UnitedStates</td>\n",
       "      <td>23103233</td>\n",
       "    </tr>\n",
       "  </tbody>\n",
       "</table>\n",
       "<p>1027795 rows × 4 columns</p>\n",
       "</div>"
      ],
      "text/plain": [
       "                                                geometry  meanHeight  \\\n",
       "0      POLYGON ((-108.20774 33.19588, -108.20778 33.1...    2.908320   \n",
       "1      POLYGON ((-107.67342 33.33829, -107.67356 33.3...   -1.000000   \n",
       "2      POLYGON ((-107.59869 33.27274, -107.59853 33.2...   -1.000000   \n",
       "3      POLYGON ((-107.64454 33.34756, -107.64446 33.3...   -1.000000   \n",
       "4      POLYGON ((-107.64928 33.34947, -107.6493 33.34...   -1.000000   \n",
       "...                                                  ...         ...   \n",
       "25120  POLYGON ((-104.22538 32.43169, -104.22538 32.4...    2.504073   \n",
       "25121  POLYGON ((-104.22057 32.38902, -104.22071 32.3...   -1.000000   \n",
       "25122  POLYGON ((-104.2181 32.38154, -104.21826 32.38...    3.599401   \n",
       "25123  POLYGON ((-104.18929 32.34827, -104.18929 32.3...   -1.000000   \n",
       "25124  POLYGON ((-104.26012 32.45499, -104.26017 32.4...   -1.000000   \n",
       "\n",
       "         RegionName   quadkey  \n",
       "0      UnitedStates  23102312  \n",
       "1      UnitedStates  23102312  \n",
       "2      UnitedStates  23102312  \n",
       "3      UnitedStates  23102312  \n",
       "4      UnitedStates  23102312  \n",
       "...             ...       ...  \n",
       "25120  UnitedStates  23103233  \n",
       "25121  UnitedStates  23103233  \n",
       "25122  UnitedStates  23103233  \n",
       "25123  UnitedStates  23103233  \n",
       "25124  UnitedStates  23103233  \n",
       "\n",
       "[1027795 rows x 4 columns]"
      ]
     },
     "execution_count": 33,
     "metadata": {},
     "output_type": "execute_result"
    }
   ],
   "source": [
    "buildings"
   ]
  },
  {
   "cell_type": "markdown",
   "id": "29ff8f3d",
   "metadata": {},
   "source": [
    "Finally, we can join the buildings and fire perimeters to see how many buildings are within an active fire perimeter."
   ]
  },
  {
   "cell_type": "code",
   "execution_count": 34,
   "id": "7e049369",
   "metadata": {},
   "outputs": [
    {
     "data": {
      "text/html": [
       "<div>\n",
       "<style scoped>\n",
       "    .dataframe tbody tr th:only-of-type {\n",
       "        vertical-align: middle;\n",
       "    }\n",
       "\n",
       "    .dataframe tbody tr th {\n",
       "        vertical-align: top;\n",
       "    }\n",
       "\n",
       "    .dataframe thead th {\n",
       "        text-align: right;\n",
       "    }\n",
       "</style>\n",
       "<table border=\"1\" class=\"dataframe\">\n",
       "  <thead>\n",
       "    <tr style=\"text-align: right;\">\n",
       "      <th></th>\n",
       "      <th>geometry</th>\n",
       "      <th>meanHeight</th>\n",
       "      <th>RegionName</th>\n",
       "      <th>quadkey</th>\n",
       "      <th>index_right</th>\n",
       "      <th>duration</th>\n",
       "      <th>farea</th>\n",
       "      <th>fireid</th>\n",
       "      <th>flinelen</th>\n",
       "      <th>fperim</th>\n",
       "      <th>geom_counts</th>\n",
       "      <th>isactive</th>\n",
       "      <th>low_confidence_grouping</th>\n",
       "      <th>meanfrp</th>\n",
       "      <th>n_newpixels</th>\n",
       "      <th>n_pixels</th>\n",
       "      <th>pixden</th>\n",
       "      <th>primarykey</th>\n",
       "      <th>region</th>\n",
       "      <th>t</th>\n",
       "    </tr>\n",
       "  </thead>\n",
       "  <tbody>\n",
       "    <tr>\n",
       "      <th>549</th>\n",
       "      <td>POLYGON ((-108.09954 33.68163, -108.09958 33.6...</td>\n",
       "      <td>-1.000000</td>\n",
       "      <td>UnitedStates</td>\n",
       "      <td>23102312</td>\n",
       "      <td>25</td>\n",
       "      <td>4.0</td>\n",
       "      <td>46.295951</td>\n",
       "      <td>57474</td>\n",
       "      <td>0.000000</td>\n",
       "      <td>72.882442</td>\n",
       "      <td>None</td>\n",
       "      <td>0</td>\n",
       "      <td>0</td>\n",
       "      <td>45.843333</td>\n",
       "      <td>3</td>\n",
       "      <td>197</td>\n",
       "      <td>4.255232</td>\n",
       "      <td>CONUS|57474|2025-06-16T12:00:00</td>\n",
       "      <td>CONUS</td>\n",
       "      <td>2025-06-16T12:00:00</td>\n",
       "    </tr>\n",
       "    <tr>\n",
       "      <th>93</th>\n",
       "      <td>POLYGON ((-108.16982 33.03085, -108.16967 33.0...</td>\n",
       "      <td>4.616078</td>\n",
       "      <td>UnitedStates</td>\n",
       "      <td>23102330</td>\n",
       "      <td>21</td>\n",
       "      <td>18.5</td>\n",
       "      <td>224.191592</td>\n",
       "      <td>57334</td>\n",
       "      <td>1.496575</td>\n",
       "      <td>68.072558</td>\n",
       "      <td>None</td>\n",
       "      <td>1</td>\n",
       "      <td>0</td>\n",
       "      <td>4.110000</td>\n",
       "      <td>1</td>\n",
       "      <td>1757</td>\n",
       "      <td>7.837047</td>\n",
       "      <td>CONUS|57334|2025-06-30T12:00:00</td>\n",
       "      <td>CONUS</td>\n",
       "      <td>2025-06-30T12:00:00</td>\n",
       "    </tr>\n",
       "    <tr>\n",
       "      <th>223</th>\n",
       "      <td>POLYGON ((-108.14718 33.02737, -108.14718 33.0...</td>\n",
       "      <td>-1.000000</td>\n",
       "      <td>UnitedStates</td>\n",
       "      <td>23102330</td>\n",
       "      <td>21</td>\n",
       "      <td>18.5</td>\n",
       "      <td>224.191592</td>\n",
       "      <td>57334</td>\n",
       "      <td>1.496575</td>\n",
       "      <td>68.072558</td>\n",
       "      <td>None</td>\n",
       "      <td>1</td>\n",
       "      <td>0</td>\n",
       "      <td>4.110000</td>\n",
       "      <td>1</td>\n",
       "      <td>1757</td>\n",
       "      <td>7.837047</td>\n",
       "      <td>CONUS|57334|2025-06-30T12:00:00</td>\n",
       "      <td>CONUS</td>\n",
       "      <td>2025-06-30T12:00:00</td>\n",
       "    </tr>\n",
       "    <tr>\n",
       "      <th>381</th>\n",
       "      <td>POLYGON ((-108.02127 32.94688, -108.02125 32.9...</td>\n",
       "      <td>3.737103</td>\n",
       "      <td>UnitedStates</td>\n",
       "      <td>23102330</td>\n",
       "      <td>21</td>\n",
       "      <td>18.5</td>\n",
       "      <td>224.191592</td>\n",
       "      <td>57334</td>\n",
       "      <td>1.496575</td>\n",
       "      <td>68.072558</td>\n",
       "      <td>None</td>\n",
       "      <td>1</td>\n",
       "      <td>0</td>\n",
       "      <td>4.110000</td>\n",
       "      <td>1</td>\n",
       "      <td>1757</td>\n",
       "      <td>7.837047</td>\n",
       "      <td>CONUS|57334|2025-06-30T12:00:00</td>\n",
       "      <td>CONUS</td>\n",
       "      <td>2025-06-30T12:00:00</td>\n",
       "    </tr>\n",
       "    <tr>\n",
       "      <th>473</th>\n",
       "      <td>POLYGON ((-108.1463 33.02554, -108.14628 33.02...</td>\n",
       "      <td>4.098737</td>\n",
       "      <td>UnitedStates</td>\n",
       "      <td>23102330</td>\n",
       "      <td>21</td>\n",
       "      <td>18.5</td>\n",
       "      <td>224.191592</td>\n",
       "      <td>57334</td>\n",
       "      <td>1.496575</td>\n",
       "      <td>68.072558</td>\n",
       "      <td>None</td>\n",
       "      <td>1</td>\n",
       "      <td>0</td>\n",
       "      <td>4.110000</td>\n",
       "      <td>1</td>\n",
       "      <td>1757</td>\n",
       "      <td>7.837047</td>\n",
       "      <td>CONUS|57334|2025-06-30T12:00:00</td>\n",
       "      <td>CONUS</td>\n",
       "      <td>2025-06-30T12:00:00</td>\n",
       "    </tr>\n",
       "    <tr>\n",
       "      <th>...</th>\n",
       "      <td>...</td>\n",
       "      <td>...</td>\n",
       "      <td>...</td>\n",
       "      <td>...</td>\n",
       "      <td>...</td>\n",
       "      <td>...</td>\n",
       "      <td>...</td>\n",
       "      <td>...</td>\n",
       "      <td>...</td>\n",
       "      <td>...</td>\n",
       "      <td>...</td>\n",
       "      <td>...</td>\n",
       "      <td>...</td>\n",
       "      <td>...</td>\n",
       "      <td>...</td>\n",
       "      <td>...</td>\n",
       "      <td>...</td>\n",
       "      <td>...</td>\n",
       "      <td>...</td>\n",
       "      <td>...</td>\n",
       "    </tr>\n",
       "    <tr>\n",
       "      <th>10783</th>\n",
       "      <td>POLYGON ((-104.11123 32.26805, -104.11123 32.2...</td>\n",
       "      <td>17.066706</td>\n",
       "      <td>UnitedStates</td>\n",
       "      <td>23103233</td>\n",
       "      <td>32</td>\n",
       "      <td>6.0</td>\n",
       "      <td>0.170982</td>\n",
       "      <td>57868</td>\n",
       "      <td>1.525828</td>\n",
       "      <td>1.525828</td>\n",
       "      <td>None</td>\n",
       "      <td>0</td>\n",
       "      <td>0</td>\n",
       "      <td>0.450000</td>\n",
       "      <td>1</td>\n",
       "      <td>2</td>\n",
       "      <td>11.697167</td>\n",
       "      <td>CONUS|57868|2025-06-21T00:00:00</td>\n",
       "      <td>CONUS</td>\n",
       "      <td>2025-06-21T00:00:00</td>\n",
       "    </tr>\n",
       "    <tr>\n",
       "      <th>19219</th>\n",
       "      <td>POLYGON ((-104.13598 32.31467, -104.13598 32.3...</td>\n",
       "      <td>-1.000000</td>\n",
       "      <td>UnitedStates</td>\n",
       "      <td>23103233</td>\n",
       "      <td>67</td>\n",
       "      <td>0.0</td>\n",
       "      <td>0.141000</td>\n",
       "      <td>60287</td>\n",
       "      <td>1.177624</td>\n",
       "      <td>1.177624</td>\n",
       "      <td>None</td>\n",
       "      <td>1</td>\n",
       "      <td>0</td>\n",
       "      <td>0.350000</td>\n",
       "      <td>1</td>\n",
       "      <td>1</td>\n",
       "      <td>7.092199</td>\n",
       "      <td>CONUS|60287|2025-06-26T00:00:00</td>\n",
       "      <td>CONUS</td>\n",
       "      <td>2025-06-26T00:00:00</td>\n",
       "    </tr>\n",
       "    <tr>\n",
       "      <th>21226</th>\n",
       "      <td>POLYGON ((-104.13596 32.31463, -104.13609 32.3...</td>\n",
       "      <td>-1.000000</td>\n",
       "      <td>UnitedStates</td>\n",
       "      <td>23103233</td>\n",
       "      <td>67</td>\n",
       "      <td>0.0</td>\n",
       "      <td>0.141000</td>\n",
       "      <td>60287</td>\n",
       "      <td>1.177624</td>\n",
       "      <td>1.177624</td>\n",
       "      <td>None</td>\n",
       "      <td>1</td>\n",
       "      <td>0</td>\n",
       "      <td>0.350000</td>\n",
       "      <td>1</td>\n",
       "      <td>1</td>\n",
       "      <td>7.092199</td>\n",
       "      <td>CONUS|60287|2025-06-26T00:00:00</td>\n",
       "      <td>CONUS</td>\n",
       "      <td>2025-06-26T00:00:00</td>\n",
       "    </tr>\n",
       "    <tr>\n",
       "      <th>21537</th>\n",
       "      <td>POLYGON ((-104.13603 32.31306, -104.13589 32.3...</td>\n",
       "      <td>8.234772</td>\n",
       "      <td>UnitedStates</td>\n",
       "      <td>23103233</td>\n",
       "      <td>67</td>\n",
       "      <td>0.0</td>\n",
       "      <td>0.141000</td>\n",
       "      <td>60287</td>\n",
       "      <td>1.177624</td>\n",
       "      <td>1.177624</td>\n",
       "      <td>None</td>\n",
       "      <td>1</td>\n",
       "      <td>0</td>\n",
       "      <td>0.350000</td>\n",
       "      <td>1</td>\n",
       "      <td>1</td>\n",
       "      <td>7.092199</td>\n",
       "      <td>CONUS|60287|2025-06-26T00:00:00</td>\n",
       "      <td>CONUS</td>\n",
       "      <td>2025-06-26T00:00:00</td>\n",
       "    </tr>\n",
       "    <tr>\n",
       "      <th>22998</th>\n",
       "      <td>POLYGON ((-104.13586 32.3137, -104.13578 32.31...</td>\n",
       "      <td>6.779568</td>\n",
       "      <td>UnitedStates</td>\n",
       "      <td>23103233</td>\n",
       "      <td>67</td>\n",
       "      <td>0.0</td>\n",
       "      <td>0.141000</td>\n",
       "      <td>60287</td>\n",
       "      <td>1.177624</td>\n",
       "      <td>1.177624</td>\n",
       "      <td>None</td>\n",
       "      <td>1</td>\n",
       "      <td>0</td>\n",
       "      <td>0.350000</td>\n",
       "      <td>1</td>\n",
       "      <td>1</td>\n",
       "      <td>7.092199</td>\n",
       "      <td>CONUS|60287|2025-06-26T00:00:00</td>\n",
       "      <td>CONUS</td>\n",
       "      <td>2025-06-26T00:00:00</td>\n",
       "    </tr>\n",
       "  </tbody>\n",
       "</table>\n",
       "<p>557 rows × 20 columns</p>\n",
       "</div>"
      ],
      "text/plain": [
       "                                                geometry  meanHeight  \\\n",
       "549    POLYGON ((-108.09954 33.68163, -108.09958 33.6...   -1.000000   \n",
       "93     POLYGON ((-108.16982 33.03085, -108.16967 33.0...    4.616078   \n",
       "223    POLYGON ((-108.14718 33.02737, -108.14718 33.0...   -1.000000   \n",
       "381    POLYGON ((-108.02127 32.94688, -108.02125 32.9...    3.737103   \n",
       "473    POLYGON ((-108.1463 33.02554, -108.14628 33.02...    4.098737   \n",
       "...                                                  ...         ...   \n",
       "10783  POLYGON ((-104.11123 32.26805, -104.11123 32.2...   17.066706   \n",
       "19219  POLYGON ((-104.13598 32.31467, -104.13598 32.3...   -1.000000   \n",
       "21226  POLYGON ((-104.13596 32.31463, -104.13609 32.3...   -1.000000   \n",
       "21537  POLYGON ((-104.13603 32.31306, -104.13589 32.3...    8.234772   \n",
       "22998  POLYGON ((-104.13586 32.3137, -104.13578 32.31...    6.779568   \n",
       "\n",
       "         RegionName   quadkey  index_right  duration       farea  fireid  \\\n",
       "549    UnitedStates  23102312           25       4.0   46.295951   57474   \n",
       "93     UnitedStates  23102330           21      18.5  224.191592   57334   \n",
       "223    UnitedStates  23102330           21      18.5  224.191592   57334   \n",
       "381    UnitedStates  23102330           21      18.5  224.191592   57334   \n",
       "473    UnitedStates  23102330           21      18.5  224.191592   57334   \n",
       "...             ...       ...          ...       ...         ...     ...   \n",
       "10783  UnitedStates  23103233           32       6.0    0.170982   57868   \n",
       "19219  UnitedStates  23103233           67       0.0    0.141000   60287   \n",
       "21226  UnitedStates  23103233           67       0.0    0.141000   60287   \n",
       "21537  UnitedStates  23103233           67       0.0    0.141000   60287   \n",
       "22998  UnitedStates  23103233           67       0.0    0.141000   60287   \n",
       "\n",
       "       flinelen     fperim geom_counts  isactive  low_confidence_grouping  \\\n",
       "549    0.000000  72.882442        None         0                        0   \n",
       "93     1.496575  68.072558        None         1                        0   \n",
       "223    1.496575  68.072558        None         1                        0   \n",
       "381    1.496575  68.072558        None         1                        0   \n",
       "473    1.496575  68.072558        None         1                        0   \n",
       "...         ...        ...         ...       ...                      ...   \n",
       "10783  1.525828   1.525828        None         0                        0   \n",
       "19219  1.177624   1.177624        None         1                        0   \n",
       "21226  1.177624   1.177624        None         1                        0   \n",
       "21537  1.177624   1.177624        None         1                        0   \n",
       "22998  1.177624   1.177624        None         1                        0   \n",
       "\n",
       "         meanfrp  n_newpixels  n_pixels     pixden  \\\n",
       "549    45.843333            3       197   4.255232   \n",
       "93      4.110000            1      1757   7.837047   \n",
       "223     4.110000            1      1757   7.837047   \n",
       "381     4.110000            1      1757   7.837047   \n",
       "473     4.110000            1      1757   7.837047   \n",
       "...          ...          ...       ...        ...   \n",
       "10783   0.450000            1         2  11.697167   \n",
       "19219   0.350000            1         1   7.092199   \n",
       "21226   0.350000            1         1   7.092199   \n",
       "21537   0.350000            1         1   7.092199   \n",
       "22998   0.350000            1         1   7.092199   \n",
       "\n",
       "                            primarykey region                    t  \n",
       "549    CONUS|57474|2025-06-16T12:00:00  CONUS  2025-06-16T12:00:00  \n",
       "93     CONUS|57334|2025-06-30T12:00:00  CONUS  2025-06-30T12:00:00  \n",
       "223    CONUS|57334|2025-06-30T12:00:00  CONUS  2025-06-30T12:00:00  \n",
       "381    CONUS|57334|2025-06-30T12:00:00  CONUS  2025-06-30T12:00:00  \n",
       "473    CONUS|57334|2025-06-30T12:00:00  CONUS  2025-06-30T12:00:00  \n",
       "...                                ...    ...                  ...  \n",
       "10783  CONUS|57868|2025-06-21T00:00:00  CONUS  2025-06-21T00:00:00  \n",
       "19219  CONUS|60287|2025-06-26T00:00:00  CONUS  2025-06-26T00:00:00  \n",
       "21226  CONUS|60287|2025-06-26T00:00:00  CONUS  2025-06-26T00:00:00  \n",
       "21537  CONUS|60287|2025-06-26T00:00:00  CONUS  2025-06-26T00:00:00  \n",
       "22998  CONUS|60287|2025-06-26T00:00:00  CONUS  2025-06-26T00:00:00  \n",
       "\n",
       "[557 rows x 20 columns]"
      ]
     },
     "execution_count": 34,
     "metadata": {},
     "output_type": "execute_result"
    }
   ],
   "source": [
    "buildings_in_perimiters = gpd.sjoin(buildings, perimeters, predicate='within')\n",
    "buildings_in_perimiters"
   ]
  }
 ],
 "metadata": {
  "kernelspec": {
   "display_name": ".venv",
   "language": "python",
   "name": "python3"
  },
  "language_info": {
   "codemirror_mode": {
    "name": "ipython",
    "version": 3
   },
   "file_extension": ".py",
   "mimetype": "text/x-python",
   "name": "python",
   "nbconvert_exporter": "python",
   "pygments_lexer": "ipython3",
   "version": "3.11.12"
  }
 },
 "nbformat": 4,
 "nbformat_minor": 5
}
